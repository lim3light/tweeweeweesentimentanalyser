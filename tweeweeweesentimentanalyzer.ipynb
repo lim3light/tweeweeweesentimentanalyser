{
  "nbformat": 4,
  "nbformat_minor": 0,
  "metadata": {
    "colab": {
      "provenance": []
    },
    "kernelspec": {
      "name": "python3",
      "display_name": "Python 3"
    },
    "language_info": {
      "name": "python"
    }
  },
  "cells": [
    {
      "cell_type": "code",
      "source": [
        "import tweepy\n",
        "import pandas as pd\n",
        "import re\n",
        "from transformers import pipeline\n",
        "import matplotlib.pyplot as plt\n",
        "import seaborn as sns\n",
        "import requests"
      ],
      "metadata": {
        "id": "fY9ohlsFTZ61"
      },
      "execution_count": 2,
      "outputs": []
    },
    {
      "cell_type": "code",
      "source": [
        "bearer_token = 'AAAAAAAAAAAAAAAAAAAAAFhhtgEAAAAAeA6bZaP2s42L8WfivYQX6Yw7QU0%3DOnnbjVEvCEC7NheuWE7OrKlFNpxlSAIf9OJAoFgtkT13brJ4Ua'"
      ],
      "metadata": {
        "id": "d4-OCvLEUGOk"
      },
      "execution_count": 3,
      "outputs": []
    },
    {
      "cell_type": "code",
      "source": [
        "\n",
        "base_url = 'https://api.twitter.com/2/'\n",
        "\n",
        "headers = {\n",
        "    'Authorization': f'Bearer {bearer_token}',\n",
        "    'Content-Type': 'application/json'\n",
        "}"
      ],
      "metadata": {
        "id": "dhY53ubPUIu9"
      },
      "execution_count": 4,
      "outputs": []
    },
    {
      "cell_type": "code",
      "source": [
        "def fetch_tweets(user_handle, count=10):\n",
        "    url = f'{base_url}users/by/username/{user_handle}/tweets'\n",
        "    params = {\n",
        "        'max_results': count,\n",
        "        'tweet.fields': 'created_at,text'\n",
        "    }\n",
        "    response = requests.get(url, headers=headers, params=params)\n",
        "    if response.status_code == 200:\n",
        "        data = response.json()\n",
        "        tweet_list = [[tweet['created_at'], tweet['text']] for tweet in data['data']]\n",
        "        return pd.DataFrame(tweet_list, columns=['Date', 'Tweet'])\n",
        "    else:\n",
        "        print(f'Error fetching tweets: {response.status_code}, {response.text}')\n",
        "        return pd.DataFrame(columns=['Date', 'Tweet'])\n",
        "\n",
        "\n",
        "\n",
        "# chagne user handle, can add user input if needed\n",
        "\n",
        "\n",
        "user_handle = 'localdreamer_z'\n",
        "\n",
        "\n",
        "\n",
        "\n",
        "df_tweets = fetch_tweets(user_handle, count=10)\n",
        "print(df_tweets.head())\n",
        "\n",
        "if df_tweets.empty:\n",
        "    print(f'No tweets found for user @{user_handle}.')\n",
        "else:\n",
        "    print(df_tweets.head())\n"
      ],
      "metadata": {
        "id": "wWoUFvysToRG"
      },
      "execution_count": null,
      "outputs": []
    },
    {
      "cell_type": "code",
      "source": [
        "\n",
        "def clean_tweet(tweet):\n",
        "    tweet = re.sub(r'http\\S+', '', tweet)  # remove URLs\n",
        "    tweet = re.sub(r'@\\w+', '', tweet)  # remove mentions\n",
        "    tweet = re.sub(r'#\\w+', '', tweet)  # remove hashtags\n",
        "    tweet = re.sub(r'[^A-Za-z0-9\\s]', '', tweet)  # remove special characters\n",
        "    tweet = tweet.lower()  # convert to lowercase\n",
        "    return tweet\n",
        "\n",
        "df_tweets['Cleaned_Tweet'] = df_tweets['Tweet'].apply(clean_tweet)\n"
      ],
      "metadata": {
        "id": "6oyIFWtSTr_d"
      },
      "execution_count": 6,
      "outputs": []
    },
    {
      "cell_type": "code",
      "source": [
        "\n",
        "\n",
        "sentiment_pipeline = pipeline('sentiment-analysis', model='cardiffnlp/twitter-roberta-base-sentiment')\n",
        "\n",
        "df_tweets['Sentiment'] = df_tweets['Cleaned_Tweet'].apply(lambda x: sentiment_pipeline(x)[0]['label'])\n"
      ],
      "metadata": {
        "id": "DvVJ6kc_Tw05"
      },
      "execution_count": null,
      "outputs": []
    },
    {
      "cell_type": "code",
      "source": [
        "\n",
        "def categorize_sentiment(label):\n",
        "    if label == 'LABEL_0':\n",
        "        return 'Negative'\n",
        "    elif label == 'LABEL_1':\n",
        "        return 'Neutral'\n",
        "    else:\n",
        "        return 'Positive'"
      ],
      "metadata": {
        "id": "sduGFIdyT1GO"
      },
      "execution_count": 8,
      "outputs": []
    },
    {
      "cell_type": "code",
      "source": [
        "\n",
        "df_tweets['Sentiment_Category'] = df_tweets['Sentiment'].apply(categorize_sentiment)\n",
        "\n",
        "plt.figure(figsize=(10, 6))\n",
        "sns.countplot(data=df_tweets, x='Sentiment_Category', order=['Negative', 'Neutral', 'Positive'])\n",
        "plt.title('Sentiment Analysis of Tweets')\n",
        "plt.xlabel('Sentiment')\n",
        "plt.ylabel('Count')\n",
        "plt.show()\n"
      ],
      "metadata": {
        "id": "DXF6iXdzT5A9",
        "collapsed": true
      },
      "execution_count": null,
      "outputs": []
    }
  ]
}